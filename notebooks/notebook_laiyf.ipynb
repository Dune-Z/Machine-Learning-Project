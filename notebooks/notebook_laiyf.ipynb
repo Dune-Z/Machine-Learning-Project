{
 "cells": [
  {
   "attachments": {},
   "cell_type": "markdown",
   "metadata": {},
   "source": [
    "# Test Script"
   ]
  },
  {
   "attachments": {},
   "cell_type": "markdown",
   "metadata": {},
   "source": [
    "## Data input & Preprocess"
   ]
  },
  {
   "cell_type": "code",
   "execution_count": 1,
   "metadata": {},
   "outputs": [],
   "source": [
    "import pandas as pd\n",
    "import numpy as np\n",
    "import matplotlib.pyplot as plt \n",
    "\n",
    "from utils import fetch_train_data, describe_data, evaluate_model, train_test_split\n",
    "from preprocess import *\n",
    "\n",
    "PATH = '../data/train_data_all_filled.json'\n",
    "#df = pd.read_json(PATH)\n",
    "\n",
    "# Using orginal data (No BERT predict labels)\n",
    "df = fetch_train_data()"
   ]
  },
  {
   "cell_type": "code",
   "execution_count": 2,
   "metadata": {},
   "outputs": [
    {
     "data": {
      "text/html": [
       "<div>\n",
       "<style scoped>\n",
       "    .dataframe tbody tr th:only-of-type {\n",
       "        vertical-align: middle;\n",
       "    }\n",
       "\n",
       "    .dataframe tbody tr th {\n",
       "        vertical-align: top;\n",
       "    }\n",
       "\n",
       "    .dataframe thead th {\n",
       "        text-align: right;\n",
       "    }\n",
       "</style>\n",
       "<table border=\"1\" class=\"dataframe\">\n",
       "  <thead>\n",
       "    <tr style=\"text-align: right;\">\n",
       "      <th></th>\n",
       "      <th>dtype</th>\n",
       "      <th>valid_count</th>\n",
       "      <th>nan_count</th>\n",
       "      <th>unique_count</th>\n",
       "    </tr>\n",
       "  </thead>\n",
       "  <tbody>\n",
       "    <tr>\n",
       "      <th>fit</th>\n",
       "      <td>category</td>\n",
       "      <td>11940</td>\n",
       "      <td>0</td>\n",
       "      <td>3</td>\n",
       "    </tr>\n",
       "    <tr>\n",
       "      <th>item_name</th>\n",
       "      <td>object</td>\n",
       "      <td>11898</td>\n",
       "      <td>42</td>\n",
       "      <td>3451</td>\n",
       "    </tr>\n",
       "    <tr>\n",
       "      <th>brand</th>\n",
       "      <td>object</td>\n",
       "      <td>11910</td>\n",
       "      <td>30</td>\n",
       "      <td>505</td>\n",
       "    </tr>\n",
       "    <tr>\n",
       "      <th>category</th>\n",
       "      <td>object</td>\n",
       "      <td>11898</td>\n",
       "      <td>42</td>\n",
       "      <td>68</td>\n",
       "    </tr>\n",
       "    <tr>\n",
       "      <th>size</th>\n",
       "      <td>object</td>\n",
       "      <td>11940</td>\n",
       "      <td>0</td>\n",
       "      <td>124</td>\n",
       "    </tr>\n",
       "    <tr>\n",
       "      <th>size_main</th>\n",
       "      <td>object</td>\n",
       "      <td>10981</td>\n",
       "      <td>959</td>\n",
       "      <td>52</td>\n",
       "    </tr>\n",
       "    <tr>\n",
       "      <th>size_suffix</th>\n",
       "      <td>object</td>\n",
       "      <td>1621</td>\n",
       "      <td>10319</td>\n",
       "      <td>5</td>\n",
       "    </tr>\n",
       "    <tr>\n",
       "      <th>size_scheme</th>\n",
       "      <td>object</td>\n",
       "      <td>11861</td>\n",
       "      <td>79</td>\n",
       "      <td>4</td>\n",
       "    </tr>\n",
       "    <tr>\n",
       "      <th>price</th>\n",
       "      <td>float64</td>\n",
       "      <td>11898</td>\n",
       "      <td>42</td>\n",
       "      <td>443</td>\n",
       "    </tr>\n",
       "    <tr>\n",
       "      <th>rented_for</th>\n",
       "      <td>object</td>\n",
       "      <td>10476</td>\n",
       "      <td>1464</td>\n",
       "      <td>8</td>\n",
       "    </tr>\n",
       "    <tr>\n",
       "      <th>usually_wear</th>\n",
       "      <td>float64</td>\n",
       "      <td>11848</td>\n",
       "      <td>92</td>\n",
       "      <td>24</td>\n",
       "    </tr>\n",
       "    <tr>\n",
       "      <th>age</th>\n",
       "      <td>float64</td>\n",
       "      <td>11553</td>\n",
       "      <td>387</td>\n",
       "      <td>61</td>\n",
       "    </tr>\n",
       "    <tr>\n",
       "      <th>height</th>\n",
       "      <td>float64</td>\n",
       "      <td>7869</td>\n",
       "      <td>4071</td>\n",
       "      <td>21</td>\n",
       "    </tr>\n",
       "    <tr>\n",
       "      <th>weight</th>\n",
       "      <td>float64</td>\n",
       "      <td>9317</td>\n",
       "      <td>2623</td>\n",
       "      <td>147</td>\n",
       "    </tr>\n",
       "    <tr>\n",
       "      <th>body_type</th>\n",
       "      <td>object</td>\n",
       "      <td>7931</td>\n",
       "      <td>4009</td>\n",
       "      <td>7</td>\n",
       "    </tr>\n",
       "    <tr>\n",
       "      <th>bust_size</th>\n",
       "      <td>float64</td>\n",
       "      <td>9782</td>\n",
       "      <td>2158</td>\n",
       "      <td>11</td>\n",
       "    </tr>\n",
       "    <tr>\n",
       "      <th>cup_size</th>\n",
       "      <td>category</td>\n",
       "      <td>9782</td>\n",
       "      <td>2158</td>\n",
       "      <td>13</td>\n",
       "    </tr>\n",
       "  </tbody>\n",
       "</table>\n",
       "</div>"
      ],
      "text/plain": [
       "                 dtype  valid_count  nan_count  unique_count\n",
       "fit           category        11940          0             3\n",
       "item_name       object        11898         42          3451\n",
       "brand           object        11910         30           505\n",
       "category        object        11898         42            68\n",
       "size            object        11940          0           124\n",
       "size_main       object        10981        959            52\n",
       "size_suffix     object         1621      10319             5\n",
       "size_scheme     object        11861         79             4\n",
       "price          float64        11898         42           443\n",
       "rented_for      object        10476       1464             8\n",
       "usually_wear   float64        11848         92            24\n",
       "age            float64        11553        387            61\n",
       "height         float64         7869       4071            21\n",
       "weight         float64         9317       2623           147\n",
       "body_type       object         7931       4009             7\n",
       "bust_size      float64         9782       2158            11\n",
       "cup_size      category         9782       2158            13"
      ]
     },
     "execution_count": 2,
     "metadata": {},
     "output_type": "execute_result"
    }
   ],
   "source": [
    "train_df, test_df = train_test_split(df, test_size=0.2)\n",
    "\n",
    "prep = Preprocessor()\n",
    "train_df = prep.cleanse(train_df, is_train=True)\n",
    "train_df.dropna(subset=['fit'], inplace=True)\n",
    "\n",
    "test_df = prep.cleanse(test_df)\n",
    "test_df.dropna(subset=['fit'], inplace=True)\n",
    "\n",
    "describe_data(test_df)"
   ]
  },
  {
   "cell_type": "code",
   "execution_count": 3,
   "metadata": {},
   "outputs": [],
   "source": [
    "train_df = prep.handle_size_mapping(train_df, is_train=True)\n",
    "test_df = prep.handle_size_mapping(test_df, is_train=False)"
   ]
  },
  {
   "cell_type": "code",
   "execution_count": 4,
   "metadata": {},
   "outputs": [
    {
     "name": "stdout",
     "output_type": "stream",
     "text": [
      "<class 'preprocess.DropColumns'>\n",
      "<class 'preprocess.OneHotEncoder'>\n",
      "<class 'preprocess.OrdinalEncoder'>\n",
      "<class 'preprocess.StandardScaler'>\n",
      "<class 'preprocess.TargetEncoder'>\n",
      "<class 'preprocess.DropColumns'>\n",
      "<class 'preprocess.MinMaxScaler'>\n",
      "<class 'preprocess.SelectOutputColumns'>\n",
      "<class 'preprocess.MeanImputer'>\n",
      "<class 'preprocess.MedianImputer'>\n"
     ]
    },
    {
     "data": {
      "text/html": [
       "<div>\n",
       "<style scoped>\n",
       "    .dataframe tbody tr th:only-of-type {\n",
       "        vertical-align: middle;\n",
       "    }\n",
       "\n",
       "    .dataframe tbody tr th {\n",
       "        vertical-align: top;\n",
       "    }\n",
       "\n",
       "    .dataframe thead th {\n",
       "        text-align: right;\n",
       "    }\n",
       "</style>\n",
       "<table border=\"1\" class=\"dataframe\">\n",
       "  <thead>\n",
       "    <tr style=\"text-align: right;\">\n",
       "      <th></th>\n",
       "      <th>dtype</th>\n",
       "      <th>valid_count</th>\n",
       "      <th>nan_count</th>\n",
       "      <th>unique_count</th>\n",
       "    </tr>\n",
       "  </thead>\n",
       "  <tbody>\n",
       "    <tr>\n",
       "      <th>fit</th>\n",
       "      <td>int8</td>\n",
       "      <td>47929</td>\n",
       "      <td>0</td>\n",
       "      <td>3</td>\n",
       "    </tr>\n",
       "    <tr>\n",
       "      <th>price</th>\n",
       "      <td>float64</td>\n",
       "      <td>47929</td>\n",
       "      <td>0</td>\n",
       "      <td>464</td>\n",
       "    </tr>\n",
       "    <tr>\n",
       "      <th>usually_wear</th>\n",
       "      <td>float64</td>\n",
       "      <td>47929</td>\n",
       "      <td>0</td>\n",
       "      <td>48</td>\n",
       "    </tr>\n",
       "    <tr>\n",
       "      <th>age</th>\n",
       "      <td>float64</td>\n",
       "      <td>47929</td>\n",
       "      <td>0</td>\n",
       "      <td>75</td>\n",
       "    </tr>\n",
       "    <tr>\n",
       "      <th>height</th>\n",
       "      <td>float64</td>\n",
       "      <td>47929</td>\n",
       "      <td>0</td>\n",
       "      <td>25</td>\n",
       "    </tr>\n",
       "    <tr>\n",
       "      <th>...</th>\n",
       "      <td>...</td>\n",
       "      <td>...</td>\n",
       "      <td>...</td>\n",
       "      <td>...</td>\n",
       "    </tr>\n",
       "    <tr>\n",
       "      <th>category_cup_size</th>\n",
       "      <td>float64</td>\n",
       "      <td>47929</td>\n",
       "      <td>0</td>\n",
       "      <td>69</td>\n",
       "    </tr>\n",
       "    <tr>\n",
       "      <th>size_weight</th>\n",
       "      <td>float64</td>\n",
       "      <td>47929</td>\n",
       "      <td>0</td>\n",
       "      <td>134</td>\n",
       "    </tr>\n",
       "    <tr>\n",
       "      <th>size_height</th>\n",
       "      <td>float64</td>\n",
       "      <td>47929</td>\n",
       "      <td>0</td>\n",
       "      <td>126</td>\n",
       "    </tr>\n",
       "    <tr>\n",
       "      <th>size_bust_size</th>\n",
       "      <td>float64</td>\n",
       "      <td>47929</td>\n",
       "      <td>0</td>\n",
       "      <td>115</td>\n",
       "    </tr>\n",
       "    <tr>\n",
       "      <th>size_cup_size</th>\n",
       "      <td>float64</td>\n",
       "      <td>47929</td>\n",
       "      <td>0</td>\n",
       "      <td>117</td>\n",
       "    </tr>\n",
       "  </tbody>\n",
       "</table>\n",
       "<p>99 rows × 4 columns</p>\n",
       "</div>"
      ],
      "text/plain": [
       "                     dtype  valid_count  nan_count  unique_count\n",
       "fit                   int8        47929          0             3\n",
       "price              float64        47929          0           464\n",
       "usually_wear       float64        47929          0            48\n",
       "age                float64        47929          0            75\n",
       "height             float64        47929          0            25\n",
       "...                    ...          ...        ...           ...\n",
       "category_cup_size  float64        47929          0            69\n",
       "size_weight        float64        47929          0           134\n",
       "size_height        float64        47929          0           126\n",
       "size_bust_size     float64        47929          0           115\n",
       "size_cup_size      float64        47929          0           117\n",
       "\n",
       "[99 rows x 4 columns]"
      ]
     },
     "execution_count": 4,
     "metadata": {},
     "output_type": "execute_result"
    }
   ],
   "source": [
    "prep.pipeline = [\n",
    "    DropColumns(\n",
    "        cols=['user_name', 'review', 'review_summary', 'rating', 'item_name']),\n",
    "    OneHotEncoder(cols=[\n",
    "        'size_scheme', 'size_main', 'size_suffix', 'rented_for', 'body_type'\n",
    "    ],\n",
    "                  name='one_hot'),\n",
    "    OrdinalEncoder(cols=['fit', 'cup_size']),\n",
    "    StandardScaler(cols=['age', 'weight', 'height', 'bust_size', 'cup_size']),\n",
    "    TargetEncoder(cols=['brand', 'category', 'size'],\n",
    "                  target_cols=['weight', 'height', 'bust_size', 'cup_size'],\n",
    "                  name='target_encoder'),\n",
    "    DropColumns(cols=['brand', 'category', 'size']),\n",
    "    MinMaxScaler(cols=['price', 'usually_wear']),\n",
    "    SelectOutputColumns(\n",
    "        target='target_encoder'\n",
    "    ),  # append the output of 'one_hot' to the input of the next transformer\n",
    "    MeanImputer(cols=['age', 'weight', 'height', 'bust_size', 'cup_size', 'price']),\n",
    "    MedianImputer(cols=['usually_wear']),\n",
    "]\n",
    "\n",
    "train_df_prep, test_df_prep = train_df.copy(), test_df.copy()\n",
    "train_df_prep = prep.fit_transform(train_df_prep)\n",
    "test_df_prep = prep.transform(test_df_prep)\n",
    "\n",
    "# describe_data(train_df_prep)['nan_count'].sum()\n",
    "describe_data(train_df_prep)"
   ]
  },
  {
   "cell_type": "code",
   "execution_count": 5,
   "metadata": {},
   "outputs": [
    {
     "data": {
      "text/plain": [
       "1    32722\n",
       "0    32540\n",
       "2    30092\n",
       "Name: fit, dtype: int64"
      ]
     },
     "execution_count": 5,
     "metadata": {},
     "output_type": "execute_result"
    }
   ],
   "source": [
    "from utils import data_augmentation\n",
    "\n",
    "x_train_noaug = train_df_prep.drop('fit', axis=1)\n",
    "y_train_noaug = train_df_prep['fit']\n",
    "\n",
    "train_df_prep_aug = data_augmentation(train_df_prep, ['cup_size', 'bust_size', 'weight', 'height'], large_ratio=2.7, small_ratio=3.6)\n",
    "train_df_prep_aug['fit'].value_counts()"
   ]
  },
  {
   "cell_type": "code",
   "execution_count": 6,
   "metadata": {},
   "outputs": [
    {
     "data": {
      "text/plain": [
       "3       -2.762857e-01\n",
       "5        2.926453e+00\n",
       "6        1.858873e+00\n",
       "7        2.575040e-01\n",
       "8        2.575040e-01\n",
       "             ...     \n",
       "70208   -1.343865e+00\n",
       "70209    2.575040e-01\n",
       "70210    2.575040e-01\n",
       "70211   -8.100755e-01\n",
       "70212    5.385629e-17\n",
       "Name: cup_size, Length: 47929, dtype: float64"
      ]
     },
     "execution_count": 6,
     "metadata": {},
     "output_type": "execute_result"
    }
   ],
   "source": [
    "x_train_noaug['cup_size']"
   ]
  },
  {
   "cell_type": "code",
   "execution_count": 7,
   "metadata": {},
   "outputs": [],
   "source": [
    "x_train = train_df_prep_aug.drop('fit', axis=1)\n",
    "x_val = test_df_prep.drop('fit', axis=1)\n",
    "y_train = train_df_prep_aug['fit']\n",
    "y_val = test_df_prep['fit']"
   ]
  },
  {
   "attachments": {},
   "cell_type": "markdown",
   "metadata": {},
   "source": [
    "## Model Evaluation\n",
    "\n",
    "### Self designed Logistic classifier"
   ]
  },
  {
   "cell_type": "code",
   "execution_count": 8,
   "metadata": {},
   "outputs": [
    {
     "name": "stderr",
     "output_type": "stream",
     "text": [
      "100%|██████████| 1000/1000 [00:45<00:00, 22.21it/s]\n"
     ]
    },
    {
     "name": "stdout",
     "output_type": "stream",
     "text": [
      "==self implemented clf==\n",
      "val score: 0.4886934673366834\n",
      "        accuracy  precision    recall        f1  f1_weighted  #small  \\\n",
      "result  0.488693   0.354471  0.357644  0.352428     0.509886    2078   \n",
      "\n",
      "        #true2size  #large  \n",
      "result        7064    2798  \n",
      "Train score: 0.7340961050401661\n",
      "        accuracy  precision    recall        f1  f1_weighted  #small  \\\n",
      "result  0.734096   0.731257  0.735502  0.732124     0.731487   33825   \n",
      "\n",
      "        #true2size  #large  \n",
      "result       28999   32530  \n"
     ]
    }
   ],
   "source": [
    "# with data augmentation\n",
    "from models import LogisticClassifier\n",
    "from utils import evaluate_model\n",
    "\n",
    "clf = LogisticClassifier(max_iter=1000, learning_rate=0.1, random_state=10, alpha=0.5)\n",
    "#w0 = np.random.randn(x_train.shape[1] + 1, 3)\n",
    "clf.fit(x_train, y_train, verbose=False)\n",
    "\n",
    "\n",
    "print('==self implemented clf==')\n",
    "\n",
    "y_pred_clf = clf.predict(x_val)\n",
    "print(f'val score: {np.mean(y_pred_clf == y_val)}')\n",
    "print(evaluate_model(y_val, y_pred_clf))\n",
    "\n",
    "y_pred_clf = clf.predict(x_train)\n",
    "print(f'Train score: {np.mean(y_pred_clf == y_train)}')\n",
    "print(evaluate_model(y_train, y_pred_clf))"
   ]
  },
  {
   "cell_type": "code",
   "execution_count": 9,
   "metadata": {},
   "outputs": [
    {
     "data": {
      "text/plain": [
       "array([[ 6.24500451e-17,  6.24500451e-17, -1.56125113e-17],\n",
       "       [-7.80625564e-18,  4.33680869e-18, -1.95156391e-18],\n",
       "       [ 8.67361738e-18,  8.67361738e-18,  1.08420217e-18],\n",
       "       [ 4.33680869e-19,  4.33680869e-18,  1.08420217e-18],\n",
       "       [ 9.71445147e-17,  1.73472348e-17,  1.11022302e-16],\n",
       "       [-9.71445147e-17, -1.73472348e-17, -1.11022302e-16],\n",
       "       [-1.38777878e-16, -6.93889390e-18, -1.24900090e-16],\n",
       "       [ 8.32667268e-17, -6.93889390e-18,  1.24900090e-16],\n",
       "       [ 1.21430643e-17,  1.21430643e-17,  3.46944695e-17],\n",
       "       [ 2.77555756e-17, -4.85722573e-17,  3.90312782e-18],\n",
       "       [-6.93889390e-18, -1.73472348e-18,  3.46944695e-18],\n",
       "       [-4.87890978e-19,  2.43945489e-19,  6.77626358e-20],\n",
       "       [ 6.09863722e-20, -1.21972744e-19,  6.77626358e-20],\n",
       "       [-1.21430643e-17,  1.21430643e-17, -6.07153217e-18],\n",
       "       [-1.56125113e-17, -1.56125113e-17, -4.33680869e-18],\n",
       "       [-8.67361738e-18, -4.33680869e-18,  2.16840434e-18],\n",
       "       [ 4.33680869e-18,  6.07153217e-18,  2.16840434e-18],\n",
       "       [ 7.80625564e-18, -4.33680869e-18,  1.95156391e-18],\n",
       "       [ 2.16840434e-18,  4.33680869e-18,  3.90312782e-18],\n",
       "       [ 9.75781955e-19,  3.90312782e-18, -2.60208521e-18],\n",
       "       [-8.67361738e-19, -3.90312782e-18,  9.75781955e-19],\n",
       "       [-1.08420217e-18, -3.90312782e-18, -3.03576608e-18],\n",
       "       [ 1.08420217e-18, -1.95156391e-18, -1.95156391e-18],\n",
       "       [ 1.73472348e-18,  8.67361738e-19,  1.08420217e-18],\n",
       "       [ 9.75781955e-19,  1.08420217e-18,  4.76456033e-22],\n",
       "       [ 9.75781955e-19, -1.08420217e-18,  2.43945489e-19],\n",
       "       [-1.08420217e-18, -1.08420217e-18,  1.52465931e-20],\n",
       "       [ 9.75781955e-19, -1.08420217e-18, -2.43945489e-19],\n",
       "       [-9.75781955e-19, -1.08420217e-18, -1.35525272e-19],\n",
       "       [ 9.75781955e-19,  1.08420217e-18, -6.09863722e-20],\n",
       "       [ 6.09863722e-20,  4.87890978e-19, -1.08420217e-19],\n",
       "       [-1.08420217e-18,  9.75781955e-19,  5.42101086e-19],\n",
       "       [-1.08420217e-18,  5.42101086e-19,  4.87890978e-19],\n",
       "       [-9.75781955e-19, -5.42101086e-19, -2.43945489e-19],\n",
       "       [-1.35525272e-19,  3.38813179e-20, -6.09863722e-20],\n",
       "       [-4.87890978e-19, -2.71050543e-19,  2.43945489e-19],\n",
       "       [ 4.87890978e-19, -2.43945489e-19,  2.43945489e-19],\n",
       "       [-5.42101086e-19,  6.09863722e-20, -5.42101086e-19],\n",
       "       [-2.71050543e-19, -2.71050543e-19, -1.21972744e-19],\n",
       "       [ 3.04931861e-20,  1.21972744e-19, -1.35525272e-19],\n",
       "       [-5.42101086e-19, -2.71050543e-19,  2.43945489e-19],\n",
       "       [ 2.71050543e-19,  2.71050543e-19,  1.35525272e-19],\n",
       "       [ 1.21972744e-19,  1.35525272e-19,  2.43945489e-19],\n",
       "       [ 1.35525272e-19, -3.04931861e-20, -1.21972744e-19],\n",
       "       [-6.77626358e-20,  1.21972744e-19, -1.35525272e-19],\n",
       "       [-9.52912066e-22,  6.77626358e-20,  6.77626358e-20],\n",
       "       [ 2.43945489e-19,  1.21972744e-19, -2.71050543e-19],\n",
       "       [-2.71050543e-19, -6.77626358e-20, -2.43945489e-19],\n",
       "       [ 6.77626358e-20,  6.09863722e-20, -1.35525272e-19],\n",
       "       [-1.21972744e-19,  6.77626358e-20,  6.09863722e-20],\n",
       "       [ 6.09863722e-20,  1.52465931e-20,  1.35525272e-19],\n",
       "       [ 6.09863722e-20, -6.77626358e-20,  1.69406589e-20],\n",
       "       [-1.69406589e-20,  8.47032947e-21,  3.38813179e-20],\n",
       "       [-1.35525272e-19,  6.09863722e-20, -3.38813179e-20],\n",
       "       [ 1.35525272e-19,  1.21972744e-19, -4.76456033e-22],\n",
       "       [-1.21972744e-19, -6.77626358e-20, -6.77626358e-20],\n",
       "       [ 1.21972744e-19, -3.04931861e-20, -6.77626358e-20],\n",
       "       [ 1.21972744e-19,  6.77626358e-20,  1.35525272e-19],\n",
       "       [-1.52465931e-20, -1.69406589e-20,  8.47032947e-21],\n",
       "       [ 3.04931861e-20,  3.04931861e-20, -6.09863722e-20],\n",
       "       [-1.52465931e-20, -3.81164826e-21,  1.69406589e-20],\n",
       "       [ 6.09863722e-20,  4.23516474e-21,  3.04931861e-20],\n",
       "       [ 1.52465931e-20, -1.52465931e-20, -2.11758237e-21],\n",
       "       [ 3.38813179e-20,  8.47032947e-21, -3.38813179e-20],\n",
       "       [-2.11758237e-21, -3.81164826e-21, -4.23516474e-21],\n",
       "       [ 3.81164826e-21,  1.52465931e-20, -1.52465931e-20],\n",
       "       [ 7.62329653e-21, -1.69406589e-20,  1.52465931e-20],\n",
       "       [ 8.67361738e-18,  1.38777878e-17,  6.07153217e-18],\n",
       "       [-4.87890978e-19, -1.08420217e-18,  5.42101086e-19],\n",
       "       [ 3.04931861e-20, -2.43945489e-19, -2.71050543e-19],\n",
       "       [-3.04931861e-20,  6.77626358e-20,  3.38813179e-20],\n",
       "       [-8.47032947e-21, -1.52465931e-20,  8.47032947e-21],\n",
       "       [ 3.12250226e-17, -2.77555756e-17,  8.67361738e-19],\n",
       "       [ 6.07153217e-18,  8.67361738e-18,  4.33680869e-18],\n",
       "       [-4.33680869e-18, -5.20417043e-18, -8.67361738e-18],\n",
       "       [-2.60208521e-18, -8.67361738e-18,  2.16840434e-19],\n",
       "       [ 2.16840434e-19, -6.93889390e-18, -8.67361738e-18],\n",
       "       [ 5.42101086e-19,  3.04931861e-20,  4.87890978e-19],\n",
       "       [ 1.73472348e-18,  3.03576608e-18, -9.75781955e-19],\n",
       "       [-1.08420217e-18, -1.95156391e-18,  1.08420217e-18],\n",
       "       [-1.21430643e-17, -1.73472348e-17, -4.33680869e-18],\n",
       "       [-7.80625564e-18, -1.38777878e-17, -3.90312782e-18],\n",
       "       [ 3.90312782e-18, -6.07153217e-18,  1.08420217e-18],\n",
       "       [ 2.16840434e-18,  2.60208521e-18,  8.67361738e-18],\n",
       "       [-4.87890978e-19,  1.73472348e-18,  3.46944695e-18],\n",
       "       [ 7.80625564e-18,  1.30104261e-18,  2.16840434e-18],\n",
       "       [-2.16840434e-18, -9.75781955e-19,  2.16840434e-18],\n",
       "       [ 6.07153217e-18,  3.46944695e-18, -6.93889390e-18],\n",
       "       [-1.95156391e-18, -2.16840434e-18, -3.90312782e-18],\n",
       "       [ 5.20417043e-18,  3.46944695e-18, -4.33680869e-18],\n",
       "       [ 1.51788304e-18, -2.16840434e-18,  9.75781955e-19],\n",
       "       [-2.16840434e-18, -1.21972744e-19,  1.73472348e-18],\n",
       "       [ 4.87890978e-19, -1.08420217e-18,  1.95156391e-18],\n",
       "       [ 8.67361738e-19, -2.71050543e-19,  1.08420217e-18],\n",
       "       [ 1.21972744e-19,  5.42101086e-19,  5.42101086e-19],\n",
       "       [ 8.67361738e-18,  7.04731412e-19,  1.38777878e-17],\n",
       "       [ 3.03576608e-18, -1.08420217e-18, -3.90312782e-18],\n",
       "       [-1.73472348e-17,  2.60208521e-18,  1.56125113e-17],\n",
       "       [ 4.33680869e-18,  3.46944695e-18,  8.67361738e-18]])"
      ]
     },
     "execution_count": 9,
     "metadata": {},
     "output_type": "execute_result"
    }
   ],
   "source": [
    "# gradient descent has almost ended\n",
    "clf.grad"
   ]
  },
  {
   "cell_type": "code",
   "execution_count": 10,
   "metadata": {},
   "outputs": [
    {
     "name": "stderr",
     "output_type": "stream",
     "text": [
      "100%|██████████| 100/100 [00:04<00:00, 20.59it/s]\n"
     ]
    },
    {
     "name": "stdout",
     "output_type": "stream",
     "text": [
      "==self implemented clf SMOTE==\n",
      "train score: 0.42294684513986514\n",
      "val score: 0.39782244556113905\n",
      "        accuracy  precision    recall        f1  f1_weighted  #small  \\\n",
      "result  0.397822   0.376557  0.399602  0.346463     0.436883    4526   \n",
      "\n",
      "        #true2size  #large  \n",
      "result        4506    2908  \n",
      "train score: 0.42294684513986514\n",
      "        accuracy  precision    recall        f1  f1_weighted  #small  \\\n",
      "result  0.422947   0.423165  0.422947  0.421543     0.421543   37094   \n",
      "\n",
      "        #true2size  #large  \n",
      "result       33356   27716  \n"
     ]
    }
   ],
   "source": [
    "# Compare data augmentation to SMOTE algorithm\n",
    "from imblearn.over_sampling import SMOTE\n",
    "\n",
    "sm = SMOTE()\n",
    "x_res, y_res = sm.fit_resample(x_train_noaug, y_train_noaug)\n",
    "\n",
    "clf_sm = LogisticClassifier(max_iter=100, learning_rate=0.25, random_state=4, alpha=0.5)\n",
    "#w0 = np.random.randn(x_train.shape[1] + 1, 3)\n",
    "clf_sm.fit(x_res, y_res, verbose=False)\n",
    "\n",
    "\n",
    "print('==self implemented clf SMOTE==')\n",
    "print(f'train score: {clf_sm.score()}')\n",
    "\n",
    "\n",
    "y_pred_clf_sm = clf_sm.predict(x_val)\n",
    "print(f'val score: {np.mean(y_pred_clf_sm == y_val)}')\n",
    "print(evaluate_model(y_val, y_pred_clf_sm))\n",
    "\n",
    "y_pred_clf_sm = clf_sm.predict(x_res)\n",
    "print(f'train score: {np.mean(y_pred_clf_sm == y_res)}')\n",
    "print(evaluate_model(y_res, y_pred_clf_sm))"
   ]
  },
  {
   "cell_type": "code",
   "execution_count": 11,
   "metadata": {},
   "outputs": [
    {
     "name": "stderr",
     "output_type": "stream",
     "text": [
      " 10%|█         | 10/100 [00:00<00:00, 96.57it/s]"
     ]
    },
    {
     "name": "stdout",
     "output_type": "stream",
     "text": [
      "(array([0, 1, 2], dtype=int8), array([7074, 6545, 8133], dtype=int64))\n"
     ]
    },
    {
     "name": "stderr",
     "output_type": "stream",
     "text": [
      "100%|██████████| 100/100 [00:01<00:00, 94.75it/s]\n",
      " 10%|█         | 10/100 [00:00<00:00, 96.49it/s]"
     ]
    },
    {
     "name": "stdout",
     "output_type": "stream",
     "text": [
      "(array([0, 1, 2], dtype=int8), array([7074, 6545, 8133], dtype=int64))\n"
     ]
    },
    {
     "name": "stderr",
     "output_type": "stream",
     "text": [
      "100%|██████████| 100/100 [00:01<00:00, 94.69it/s]\n",
      "  9%|▉         | 9/100 [00:00<00:01, 88.69it/s]"
     ]
    },
    {
     "name": "stdout",
     "output_type": "stream",
     "text": [
      "(array([0, 1, 2], dtype=int8), array([7074, 6544, 8133], dtype=int64))\n"
     ]
    },
    {
     "name": "stderr",
     "output_type": "stream",
     "text": [
      "100%|██████████| 100/100 [00:01<00:00, 93.26it/s]\n",
      " 10%|█         | 10/100 [00:00<00:00, 90.69it/s]"
     ]
    },
    {
     "name": "stdout",
     "output_type": "stream",
     "text": [
      "(array([0, 1, 2], dtype=int8), array([7074, 6544, 8133], dtype=int64))\n"
     ]
    },
    {
     "name": "stderr",
     "output_type": "stream",
     "text": [
      "100%|██████████| 100/100 [00:01<00:00, 94.18it/s]\n",
      " 10%|█         | 10/100 [00:00<00:00, 93.13it/s]"
     ]
    },
    {
     "name": "stdout",
     "output_type": "stream",
     "text": [
      "(array([0, 1, 2], dtype=int8), array([7074, 6544, 8133], dtype=int64))\n"
     ]
    },
    {
     "name": "stderr",
     "output_type": "stream",
     "text": [
      "100%|██████████| 100/100 [00:01<00:00, 94.51it/s]\n"
     ]
    },
    {
     "data": {
      "text/html": [
       "<div>\n",
       "<style scoped>\n",
       "    .dataframe tbody tr th:only-of-type {\n",
       "        vertical-align: middle;\n",
       "    }\n",
       "\n",
       "    .dataframe tbody tr th {\n",
       "        vertical-align: top;\n",
       "    }\n",
       "\n",
       "    .dataframe thead th {\n",
       "        text-align: right;\n",
       "    }\n",
       "</style>\n",
       "<table border=\"1\" class=\"dataframe\">\n",
       "  <thead>\n",
       "    <tr style=\"text-align: right;\">\n",
       "      <th></th>\n",
       "      <th>accuracy</th>\n",
       "      <th>precision</th>\n",
       "      <th>recall</th>\n",
       "      <th>f1</th>\n",
       "      <th>f1_weighted</th>\n",
       "      <th>#small</th>\n",
       "      <th>#true2size</th>\n",
       "      <th>#large</th>\n",
       "    </tr>\n",
       "  </thead>\n",
       "  <tbody>\n",
       "    <tr>\n",
       "      <th>result</th>\n",
       "      <td>0.308124</td>\n",
       "      <td>0.339589</td>\n",
       "      <td>0.346689</td>\n",
       "      <td>0.284087</td>\n",
       "      <td>0.339296</td>\n",
       "      <td>3233</td>\n",
       "      <td>3250</td>\n",
       "      <td>5457</td>\n",
       "    </tr>\n",
       "  </tbody>\n",
       "</table>\n",
       "</div>"
      ],
      "text/plain": [
       "        accuracy  precision    recall        f1  f1_weighted  #small  \\\n",
       "result  0.308124   0.339589  0.346689  0.284087     0.339296    3233   \n",
       "\n",
       "        #true2size  #large  \n",
       "result        3250    5457  "
      ]
     },
     "execution_count": 11,
     "metadata": {},
     "output_type": "execute_result"
    }
   ],
   "source": [
    "# Using split train pattern\n",
    "from utils import random_split_aggr\n",
    "\n",
    "random_split_aggr(model=LogisticClassifier(max_iter=100, learning_rate=0.25, random_state=42),\n",
    "                    X_train=x_train_noaug.to_numpy(), X_test=x_val.to_numpy(),\n",
    "                    y_train=y_train_noaug.to_numpy(), y_test=y_val.to_numpy(),\n",
    "                    fit_args=dict())"
   ]
  },
  {
   "attachments": {},
   "cell_type": "markdown",
   "metadata": {},
   "source": [
    "### Logistic Regression from sklearn "
   ]
  },
  {
   "cell_type": "code",
   "execution_count": 12,
   "metadata": {},
   "outputs": [
    {
     "name": "stdout",
     "output_type": "stream",
     "text": [
      "Accuracy of logistic regression classifier on val set: 0.64\n",
      "        accuracy  precision    recall        f1  f1_weighted  #small  \\\n",
      "result  0.643049   0.435069  0.391161  0.395445     0.600735     811   \n",
      "\n",
      "        #true2size  #large  \n",
      "result        9938    1191  \n"
     ]
    },
    {
     "name": "stderr",
     "output_type": "stream",
     "text": [
      "d:\\miniconda\\lib\\site-packages\\sklearn\\linear_model\\_logistic.py:458: ConvergenceWarning: lbfgs failed to converge (status=1):\n",
      "STOP: TOTAL NO. of ITERATIONS REACHED LIMIT.\n",
      "\n",
      "Increase the number of iterations (max_iter) or scale the data as shown in:\n",
      "    https://scikit-learn.org/stable/modules/preprocessing.html\n",
      "Please also refer to the documentation for alternative solver options:\n",
      "    https://scikit-learn.org/stable/modules/linear_model.html#logistic-regression\n",
      "  n_iter_i = _check_optimize_result(\n",
      "d:\\miniconda\\lib\\site-packages\\sklearn\\base.py:409: UserWarning: X does not have valid feature names, but LogisticRegression was fitted with feature names\n",
      "  warnings.warn(\n"
     ]
    }
   ],
   "source": [
    "# with data augmentation\n",
    "from sklearn.linear_model import LogisticRegression\n",
    "\n",
    "logreg = LogisticRegression(multi_class='multinomial')\n",
    "logreg.fit(x_train, y_train)\n",
    "\n",
    "y_pred_log = logreg.predict(x_val.to_numpy())\n",
    "print('Accuracy of logistic regression classifier on val set: {:.2f}'.format(logreg.score(x_val, y_val)))\n",
    "print(evaluate_model(y_val, y_pred_log))"
   ]
  },
  {
   "cell_type": "code",
   "execution_count": 13,
   "metadata": {},
   "outputs": [
    {
     "name": "stdout",
     "output_type": "stream",
     "text": [
      "Accuracy of logistic regression classifier on val set: 0.54\n",
      "        accuracy  precision    recall        f1  f1_weighted  #small  \\\n",
      "result  0.536348   0.411312  0.426228  0.414433     0.554923    2087   \n",
      "\n",
      "        #true2size  #large  \n",
      "result        7093    2760  \n"
     ]
    },
    {
     "name": "stderr",
     "output_type": "stream",
     "text": [
      "d:\\miniconda\\lib\\site-packages\\sklearn\\linear_model\\_logistic.py:458: ConvergenceWarning: lbfgs failed to converge (status=1):\n",
      "STOP: TOTAL NO. of ITERATIONS REACHED LIMIT.\n",
      "\n",
      "Increase the number of iterations (max_iter) or scale the data as shown in:\n",
      "    https://scikit-learn.org/stable/modules/preprocessing.html\n",
      "Please also refer to the documentation for alternative solver options:\n",
      "    https://scikit-learn.org/stable/modules/linear_model.html#logistic-regression\n",
      "  n_iter_i = _check_optimize_result(\n",
      "d:\\miniconda\\lib\\site-packages\\sklearn\\base.py:409: UserWarning: X does not have valid feature names, but LogisticRegression was fitted with feature names\n",
      "  warnings.warn(\n"
     ]
    }
   ],
   "source": [
    "# with SMOTE\n",
    "\n",
    "logreg = LogisticRegression(multi_class='multinomial')\n",
    "logreg.fit(x_res, y_res)\n",
    "\n",
    "y_pred_log = logreg.predict(x_val.to_numpy())\n",
    "print('Accuracy of logistic regression classifier on val set: {:.2f}'.format(logreg.score(x_val, y_val)))\n",
    "print(evaluate_model(y_val, y_pred_log))"
   ]
  },
  {
   "cell_type": "code",
   "execution_count": 14,
   "metadata": {},
   "outputs": [
    {
     "name": "stdout",
     "output_type": "stream",
     "text": [
      "(array([0, 1, 2], dtype=int8), array([7074, 6545, 8133], dtype=int64))\n",
      "(array([0, 1, 2], dtype=int8), array([7074, 6545, 8133], dtype=int64))\n",
      "(array([0, 1, 2], dtype=int8), array([7074, 6544, 8133], dtype=int64))\n",
      "(array([0, 1, 2], dtype=int8), array([7074, 6544, 8133], dtype=int64))\n",
      "(array([0, 1, 2], dtype=int8), array([7074, 6544, 8133], dtype=int64))\n"
     ]
    },
    {
     "data": {
      "text/html": [
       "<div>\n",
       "<style scoped>\n",
       "    .dataframe tbody tr th:only-of-type {\n",
       "        vertical-align: middle;\n",
       "    }\n",
       "\n",
       "    .dataframe tbody tr th {\n",
       "        vertical-align: top;\n",
       "    }\n",
       "\n",
       "    .dataframe thead th {\n",
       "        text-align: right;\n",
       "    }\n",
       "</style>\n",
       "<table border=\"1\" class=\"dataframe\">\n",
       "  <thead>\n",
       "    <tr style=\"text-align: right;\">\n",
       "      <th></th>\n",
       "      <th>accuracy</th>\n",
       "      <th>precision</th>\n",
       "      <th>recall</th>\n",
       "      <th>f1</th>\n",
       "      <th>f1_weighted</th>\n",
       "      <th>#small</th>\n",
       "      <th>#true2size</th>\n",
       "      <th>#large</th>\n",
       "    </tr>\n",
       "  </thead>\n",
       "  <tbody>\n",
       "    <tr>\n",
       "      <th>result</th>\n",
       "      <td>0.354606</td>\n",
       "      <td>0.414443</td>\n",
       "      <td>0.447408</td>\n",
       "      <td>0.345094</td>\n",
       "      <td>0.374789</td>\n",
       "      <td>3284</td>\n",
       "      <td>2804</td>\n",
       "      <td>5852</td>\n",
       "    </tr>\n",
       "  </tbody>\n",
       "</table>\n",
       "</div>"
      ],
      "text/plain": [
       "        accuracy  precision    recall        f1  f1_weighted  #small  \\\n",
       "result  0.354606   0.414443  0.447408  0.345094     0.374789    3284   \n",
       "\n",
       "        #true2size  #large  \n",
       "result        2804    5852  "
      ]
     },
     "execution_count": 14,
     "metadata": {},
     "output_type": "execute_result"
    }
   ],
   "source": [
    "# with split train pattern\n",
    "random_split_aggr(model=LogisticRegression(max_iter=2000),\n",
    "                    X_train=x_train_noaug.to_numpy(), X_test=x_val.to_numpy(),\n",
    "                    y_train=y_train_noaug.to_numpy(), y_test=y_val.to_numpy())"
   ]
  },
  {
   "attachments": {},
   "cell_type": "markdown",
   "metadata": {},
   "source": [
    "### Extra Trees Classifier"
   ]
  },
  {
   "cell_type": "code",
   "execution_count": 15,
   "metadata": {},
   "outputs": [
    {
     "name": "stdout",
     "output_type": "stream",
     "text": [
      "Accuracy of Extra Trees Classifier on val set: 0.68\n",
      "              precision    recall  f1-score   support\n",
      "\n",
      "           0       0.39      0.18      0.25      1710\n",
      "           1       0.72      0.92      0.81      8201\n",
      "           2       0.36      0.11      0.17      2029\n",
      "\n",
      "    accuracy                           0.68     11940\n",
      "   macro avg       0.49      0.40      0.41     11940\n",
      "weighted avg       0.61      0.68      0.62     11940\n",
      "\n"
     ]
    }
   ],
   "source": [
    "# with data augmentation\n",
    "from sklearn.ensemble import ExtraTreesClassifier\n",
    "\n",
    "etc = ExtraTreesClassifier(n_estimators=100, random_state=0)\n",
    "etc.fit(x_train, y_train)\n",
    "\n",
    "y_pred_etc = etc.predict(x_val)\n",
    "print('Accuracy of Extra Trees Classifier on val set: {:.2f}'.format(etc.score(x_val, y_val)))\n",
    "\n",
    "from sklearn.metrics import classification_report\n",
    "print(classification_report(y_val, y_pred_etc))"
   ]
  },
  {
   "cell_type": "code",
   "execution_count": 16,
   "metadata": {},
   "outputs": [
    {
     "name": "stdout",
     "output_type": "stream",
     "text": [
      "Accuracy of Extra Trees Classifier on val set: 0.65\n",
      "              precision    recall  f1-score   support\n",
      "\n",
      "           0       0.34      0.26      0.30      1710\n",
      "           1       0.73      0.85      0.79      8201\n",
      "           2       0.34      0.17      0.22      2029\n",
      "\n",
      "    accuracy                           0.65     11940\n",
      "   macro avg       0.47      0.43      0.44     11940\n",
      "weighted avg       0.61      0.65      0.62     11940\n",
      "\n"
     ]
    }
   ],
   "source": [
    "# with SMOTE\n",
    "etc = ExtraTreesClassifier(n_estimators=100, random_state=0)\n",
    "etc.fit(x_res, y_res)\n",
    "\n",
    "y_pred_etc = etc.predict(x_val)\n",
    "print('Accuracy of Extra Trees Classifier on val set: {:.2f}'.format(etc.score(x_val, y_val)))\n",
    "\n",
    "from sklearn.metrics import classification_report\n",
    "print(classification_report(y_val, y_pred_etc))"
   ]
  },
  {
   "attachments": {},
   "cell_type": "markdown",
   "metadata": {},
   "source": [
    "### Self implemented ordinal classifier"
   ]
  },
  {
   "cell_type": "code",
   "execution_count": 17,
   "metadata": {},
   "outputs": [
    {
     "name": "stdout",
     "output_type": "stream",
     "text": [
      "              precision    recall  f1-score   support\n",
      "\n",
      "           0       0.14      0.77      0.24      1710\n",
      "           1       0.64      0.13      0.22      8201\n",
      "           2       0.20      0.08      0.12      2029\n",
      "\n",
      "    accuracy                           0.21     11940\n",
      "   macro avg       0.33      0.33      0.19     11940\n",
      "weighted avg       0.49      0.21      0.20     11940\n",
      "\n"
     ]
    }
   ],
   "source": [
    "# with data augmentation\n",
    "from models import OrdinalClassifier\n",
    "\n",
    "ordclf = OrdinalClassifier(learning_rate=0.1, max_iter=200)\n",
    "ordclf.fit(x_train, y_train)\n",
    "\n",
    "from sklearn.metrics import classification_report\n",
    "print(classification_report(y_val, ordclf.predict(x_val)))"
   ]
  },
  {
   "cell_type": "code",
   "execution_count": 18,
   "metadata": {},
   "outputs": [
    {
     "data": {
      "text/plain": [
       "array([ 3.99360322e-02,  4.55244217e-03,  4.43506972e-03, -2.04974877e-02,\n",
       "       -2.59579438e-02, -2.05136599e-03,  2.77149227e-03,  3.76588356e-02,\n",
       "       -3.89235973e-02,  2.12639320e-02,  1.83942268e-02,  2.21307497e-04,\n",
       "        6.64292744e-05,  7.57311823e-03, -7.35775090e-04,  5.98340932e-03,\n",
       "        8.48450828e-03,  2.05092626e-03,  7.09816216e-03,  1.74177037e-03,\n",
       "        4.54216199e-03, -1.78124785e-03,  4.92384300e-03, -3.09456136e-04,\n",
       "        1.05115824e-03,  1.23842084e-04,  8.47139141e-05,  1.72454021e-04,\n",
       "        5.72505764e-04,  5.22363888e-04,  4.54350406e-04,  5.96023435e-04,\n",
       "        4.05384395e-04, -1.46112977e-04,  1.07827488e-04,  2.41055482e-04,\n",
       "        1.77228423e-04,  3.22814542e-04,  1.38212677e-04,  6.39046153e-05,\n",
       "        2.39580040e-04,  1.76569574e-04,  9.77864814e-05,  9.39893839e-05,\n",
       "        1.08279751e-04, -2.44911625e-05,  5.13599015e-05,  2.05270170e-04,\n",
       "       -7.99543145e-05,  4.51297099e-05,  6.18303299e-05, -3.44017127e-05,\n",
       "        1.30957699e-04,  6.03710112e-05,  2.41847579e-05,  3.54255984e-05,\n",
       "       -2.74494238e-05,  6.07690658e-05,  5.68676283e-05,  4.70185750e-06,\n",
       "       -2.35435423e-05,  3.93084852e-05,  3.80618459e-05,  2.57326519e-05,\n",
       "        2.66942023e-06,  7.09606288e-07,  1.09441059e-06,  8.64862533e-03,\n",
       "        7.96897147e-04,  1.78194129e-04,  4.53520567e-05,  2.50634224e-07,\n",
       "        1.04169554e-02,  1.18112688e-03, -3.93353054e-03,  1.19732946e-02,\n",
       "       -3.14217174e-03,  1.04837148e-02,  1.93299576e-03,  1.59956964e-03,\n",
       "       -9.07670285e-04,  8.71092045e-03,  6.95344387e-04,  1.55034103e-03,\n",
       "       -1.85503814e-03,  1.05487003e-02,  9.22133047e-04,  1.31096797e-02,\n",
       "        2.64356705e-03,  1.10534349e-02,  5.44946153e-03,  1.52259488e-03,\n",
       "        2.08842732e-04,  1.04592082e-03,  5.22746447e-04, -6.23985173e-03,\n",
       "       -3.30269763e-03, -6.39296073e-03, -3.54822309e-03])"
      ]
     },
     "execution_count": 18,
     "metadata": {},
     "output_type": "execute_result"
    }
   ],
   "source": [
    "ordclf.clf_low.grad"
   ]
  },
  {
   "cell_type": "code",
   "execution_count": 19,
   "metadata": {},
   "outputs": [
    {
     "name": "stdout",
     "output_type": "stream",
     "text": [
      "(array([0, 1, 2], dtype=int8), array([7074, 6545, 8133], dtype=int64))\n",
      "(array([0, 1, 2], dtype=int8), array([7074, 6545, 8133], dtype=int64))\n",
      "(array([0, 1, 2], dtype=int8), array([7074, 6544, 8133], dtype=int64))\n",
      "(array([0, 1, 2], dtype=int8), array([7074, 6544, 8133], dtype=int64))\n",
      "(array([0, 1, 2], dtype=int8), array([7074, 6544, 8133], dtype=int64))\n"
     ]
    },
    {
     "data": {
      "text/html": [
       "<div>\n",
       "<style scoped>\n",
       "    .dataframe tbody tr th:only-of-type {\n",
       "        vertical-align: middle;\n",
       "    }\n",
       "\n",
       "    .dataframe tbody tr th {\n",
       "        vertical-align: top;\n",
       "    }\n",
       "\n",
       "    .dataframe thead th {\n",
       "        text-align: right;\n",
       "    }\n",
       "</style>\n",
       "<table border=\"1\" class=\"dataframe\">\n",
       "  <thead>\n",
       "    <tr style=\"text-align: right;\">\n",
       "      <th></th>\n",
       "      <th>accuracy</th>\n",
       "      <th>precision</th>\n",
       "      <th>recall</th>\n",
       "      <th>f1</th>\n",
       "      <th>f1_weighted</th>\n",
       "      <th>#small</th>\n",
       "      <th>#true2size</th>\n",
       "      <th>#large</th>\n",
       "    </tr>\n",
       "  </thead>\n",
       "  <tbody>\n",
       "    <tr>\n",
       "      <th>result</th>\n",
       "      <td>0.227219</td>\n",
       "      <td>0.331203</td>\n",
       "      <td>0.331697</td>\n",
       "      <td>0.226161</td>\n",
       "      <td>0.224032</td>\n",
       "      <td>4684</td>\n",
       "      <td>1582</td>\n",
       "      <td>5674</td>\n",
       "    </tr>\n",
       "  </tbody>\n",
       "</table>\n",
       "</div>"
      ],
      "text/plain": [
       "        accuracy  precision    recall        f1  f1_weighted  #small  \\\n",
       "result  0.227219   0.331203  0.331697  0.226161     0.224032    4684   \n",
       "\n",
       "        #true2size  #large  \n",
       "result        1582    5674  "
      ]
     },
     "execution_count": 19,
     "metadata": {},
     "output_type": "execute_result"
    }
   ],
   "source": [
    "# with split train pattern\n",
    "random_split_aggr(model=OrdinalClassifier(learning_rate=0.1),\n",
    "                    X_train=x_train_noaug.to_numpy(), X_test=x_val.to_numpy(),\n",
    "                    y_train=y_train_noaug.to_numpy(), y_test=y_val.to_numpy(),\n",
    "                    fit_args=dict())"
   ]
  }
 ],
 "metadata": {
  "kernelspec": {
   "display_name": "base",
   "language": "python",
   "name": "python3"
  },
  "language_info": {
   "codemirror_mode": {
    "name": "ipython",
    "version": 3
   },
   "file_extension": ".py",
   "mimetype": "text/x-python",
   "name": "python",
   "nbconvert_exporter": "python",
   "pygments_lexer": "ipython3",
   "version": "3.9.7"
  },
  "orig_nbformat": 4,
  "vscode": {
   "interpreter": {
    "hash": "fd16a1c2e981052eaae61151b9525ae9913f1f0d16bca6b7e7be9e0f29d739d2"
   }
  }
 },
 "nbformat": 4,
 "nbformat_minor": 2
}
