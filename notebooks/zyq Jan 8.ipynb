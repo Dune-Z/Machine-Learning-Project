{
 "cells": [
  {
   "cell_type": "code",
   "execution_count": 91,
   "metadata": {},
   "outputs": [],
   "source": [
    "import os\n",
    "import sys\n",
    "import importlib\n",
    "import numpy as np\n",
    "import pandas as pd\n",
    "import scipy\n",
    "\n",
    "sys.path.append(os.path.abspath('../src'))\n",
    "\n",
    "import matplotlib as mpl\n",
    "import matplotlib.pyplot as plt\n",
    "import seaborn as sns\n",
    "\n",
    "mpl.rcParams['font.family'] = ['serif']\n",
    "mpl.rcParams['font.serif'] = ['Times New Roman']\n",
    "mpl.rcParams['mathtext.fontset'] = 'cm'\n",
    "\n",
    "import utils\n",
    "import preprocess\n",
    "\n",
    "importlib.reload(utils)\n",
    "importlib.reload(preprocess)\n",
    "\n",
    "from utils import fetch_train_data, describe_data, evaluate_model, train_test_split\n",
    "from preprocess import *\n",
    "\n",
    "df = fetch_train_data(path='../data/train_data_all_filled.json')\n",
    "# df = fetch_train_data()\n",
    "\n",
    "train_df, test_df = train_test_split(df, test_size=0.2)\n",
    "train_df.drop(train_df[train_df['fit'] == ''].index, inplace=True)\n",
    "test_df.drop(test_df[test_df['fit'] == ''].index, inplace=True)\n",
    "\n",
    "train_df.to_json('../data/train_data_sample.json', orient='records')\n",
    "test_df.to_json('../data/test_data_sample.json', orient='records')\n"
   ]
  },
  {
   "cell_type": "code",
   "execution_count": 114,
   "metadata": {},
   "outputs": [],
   "source": [
    "import torch\n",
    "train_df = pd.read_json('../data/train_data_sample.json')\n",
    "test_df = pd.read_json('../data/test_data_sample.json')\n",
    "prep = torch.load(f'../models/preprocessor.pt')\n",
    "train_df = prep.cleanse(train_df, is_train=True)\n",
    "test_df = prep.cleanse(test_df)\n",
    "train_df = prep.transform(train_df)\n",
    "test_df = prep.transform(test_df)"
   ]
  },
  {
   "cell_type": "code",
   "execution_count": 134,
   "metadata": {},
   "outputs": [
    {
     "data": {
      "text/html": [
       "<div>\n",
       "<style scoped>\n",
       "    .dataframe tbody tr th:only-of-type {\n",
       "        vertical-align: middle;\n",
       "    }\n",
       "\n",
       "    .dataframe tbody tr th {\n",
       "        vertical-align: top;\n",
       "    }\n",
       "\n",
       "    .dataframe thead th {\n",
       "        text-align: right;\n",
       "    }\n",
       "</style>\n",
       "<table border=\"1\" class=\"dataframe\">\n",
       "  <thead>\n",
       "    <tr style=\"text-align: right;\">\n",
       "      <th></th>\n",
       "      <th>accuracy</th>\n",
       "      <th>precision</th>\n",
       "      <th>recall</th>\n",
       "      <th>f1</th>\n",
       "      <th>f1_weighted</th>\n",
       "      <th>#small</th>\n",
       "      <th>#true2size</th>\n",
       "      <th>#large</th>\n",
       "    </tr>\n",
       "  </thead>\n",
       "  <tbody>\n",
       "    <tr>\n",
       "      <th>result</th>\n",
       "      <td>0.338119</td>\n",
       "      <td>0.337807</td>\n",
       "      <td>0.338776</td>\n",
       "      <td>0.292582</td>\n",
       "      <td>0.383462</td>\n",
       "      <td>5808</td>\n",
       "      <td>5858</td>\n",
       "      <td>5887</td>\n",
       "    </tr>\n",
       "  </tbody>\n",
       "</table>\n",
       "</div>"
      ],
      "text/plain": [
       "        accuracy  precision    recall        f1  f1_weighted  #small  \\\n",
       "result  0.338119   0.337807  0.338776  0.292582     0.383462    5808   \n",
       "\n",
       "        #true2size  #large  \n",
       "result        5858    5887  "
      ]
     },
     "execution_count": 134,
     "metadata": {},
     "output_type": "execute_result"
    }
   ],
   "source": [
    "from models import RandomClassifier\n",
    "\n",
    "evaluate_model(test_df['fit'], RandomClassifier().predict(test_df))"
   ]
  },
  {
   "cell_type": "code",
   "execution_count": 138,
   "metadata": {},
   "outputs": [
    {
     "name": "stdout",
     "output_type": "stream",
     "text": [
      "(array([0, 1, 2], dtype=int8), array([ 9485,  9787, 11505]))\n",
      "(array([0, 1, 2], dtype=int8), array([ 9485,  9787, 11505]))\n",
      "(array([0, 1, 2], dtype=int8), array([ 9485,  9786, 11505]))\n",
      "(array([0, 1, 2], dtype=int8), array([ 9485,  9786, 11505]))\n",
      "(array([0, 1, 2], dtype=int8), array([ 9485,  9786, 11505]))\n"
     ]
    },
    {
     "data": {
      "text/html": [
       "<div>\n",
       "<style scoped>\n",
       "    .dataframe tbody tr th:only-of-type {\n",
       "        vertical-align: middle;\n",
       "    }\n",
       "\n",
       "    .dataframe tbody tr th {\n",
       "        vertical-align: top;\n",
       "    }\n",
       "\n",
       "    .dataframe thead th {\n",
       "        text-align: right;\n",
       "    }\n",
       "</style>\n",
       "<table border=\"1\" class=\"dataframe\">\n",
       "  <thead>\n",
       "    <tr style=\"text-align: right;\">\n",
       "      <th></th>\n",
       "      <th>accuracy</th>\n",
       "      <th>precision</th>\n",
       "      <th>recall</th>\n",
       "      <th>f1</th>\n",
       "      <th>f1_weighted</th>\n",
       "      <th>#small</th>\n",
       "      <th>#true2size</th>\n",
       "      <th>#large</th>\n",
       "    </tr>\n",
       "  </thead>\n",
       "  <tbody>\n",
       "    <tr>\n",
       "      <th>result</th>\n",
       "      <td>0.329231</td>\n",
       "      <td>0.335851</td>\n",
       "      <td>0.337986</td>\n",
       "      <td>0.28207</td>\n",
       "      <td>0.373981</td>\n",
       "      <td>8130</td>\n",
       "      <td>5749</td>\n",
       "      <td>3674</td>\n",
       "    </tr>\n",
       "  </tbody>\n",
       "</table>\n",
       "</div>"
      ],
      "text/plain": [
       "        accuracy  precision    recall       f1  f1_weighted  #small  \\\n",
       "result  0.329231   0.335851  0.337986  0.28207     0.373981    8130   \n",
       "\n",
       "        #true2size  #large  \n",
       "result        5749    3674  "
      ]
     },
     "execution_count": 138,
     "metadata": {},
     "output_type": "execute_result"
    }
   ],
   "source": [
    "importlib.reload(utils)\n",
    "from utils import random_split_aggr\n",
    "\n",
    "X_train = train_df.drop('fit', axis=1).to_numpy()\n",
    "y_train = train_df['fit'].to_numpy()\n",
    "X_test = test_df.drop('fit', axis=1).to_numpy()\n",
    "y_test = test_df['fit'].to_numpy()\n",
    "\n",
    "random_split_aggr(RandomClassifier(), X_train, y_train, X_test, y_test)\n"
   ]
  },
  {
   "cell_type": "code",
   "execution_count": 226,
   "metadata": {},
   "outputs": [
    {
     "data": {
      "text/plain": [
       "(array([0. , 0.2, 0.4, 0.6, 0.8, 1. , 1.2, 1.4, 1.6, 1.8, 2. ]),\n",
       " array([  2,  17,  55, 146, 188, 199, 178, 120,  61,  26,   8]))"
      ]
     },
     "execution_count": 226,
     "metadata": {},
     "output_type": "execute_result"
    }
   ],
   "source": [
    "y_preds = [\n",
    "    np.random.randint(0, 3, size=1000),\n",
    "    np.random.randint(0, 3, size=1000),\n",
    "    np.random.randint(0, 3, size=1000),\n",
    "    np.random.randint(0, 3, size=1000),\n",
    "    np.random.randint(0, 3, size=1000),\n",
    "]\n",
    "\n",
    "y_preds = list(map(list, zip(*y_preds)))\n",
    "# np.unique([max(set(votes), key=votes.count) for votes in y_preds],\n",
    "#           return_counts=True)\n",
    "np.unique([np.mean(votes) for votes in y_preds],\n",
    "          return_counts=True)"
   ]
  },
  {
   "cell_type": "code",
   "execution_count": 214,
   "metadata": {},
   "outputs": [
    {
     "name": "stdout",
     "output_type": "stream",
     "text": [
      "(array([0, 1, 2]), array([25, 34, 41]))\n",
      "(array([0, 1, 2]), array([29, 26, 45]))\n",
      "(array([0, 1, 2]), array([39, 30, 31]))\n",
      "(array([0, 1, 2]), array([34, 32, 34]))\n",
      "(array([0, 1, 2]), array([34, 35, 31]))\n"
     ]
    }
   ],
   "source": [
    "print(np.unique(np.random.randint(0, 3, size=100), return_counts=True))\n",
    "print(np.unique(np.random.randint(0, 3, size=100), return_counts=True))\n",
    "print(np.unique(np.random.randint(0, 3, size=100), return_counts=True))\n",
    "print(np.unique(np.random.randint(0, 3, size=100), return_counts=True))\n",
    "print(np.unique(np.random.randint(0, 3, size=100), return_counts=True))"
   ]
  }
 ],
 "metadata": {
  "kernelspec": {
   "display_name": "Python 3",
   "language": "python",
   "name": "python3"
  },
  "language_info": {
   "codemirror_mode": {
    "name": "ipython",
    "version": 3
   },
   "file_extension": ".py",
   "mimetype": "text/x-python",
   "name": "python",
   "nbconvert_exporter": "python",
   "pygments_lexer": "ipython3",
   "version": "3.10.8"
  },
  "orig_nbformat": 4,
  "vscode": {
   "interpreter": {
    "hash": "d25da615e19396787fe4ca1ac6e145a6d087d3a93322fbf7b59c4188e44aa5c8"
   }
  }
 },
 "nbformat": 4,
 "nbformat_minor": 2
}
