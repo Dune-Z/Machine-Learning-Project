{
 "cells": [
  {
   "cell_type": "code",
   "execution_count": 11,
   "metadata": {},
   "outputs": [],
   "source": [
    "from utils import *\n",
    "from preprocess import *"
   ]
  },
  {
   "cell_type": "code",
   "execution_count": 12,
   "metadata": {},
   "outputs": [],
   "source": [
    "from sklearn.preprocessing import OneHotEncoder\n",
    "from sklearn.linear_model import LogisticRegression\n",
    "from sklearn.model_selection import train_test_split"
   ]
  },
  {
   "cell_type": "code",
   "execution_count": 13,
   "metadata": {},
   "outputs": [],
   "source": [
    "df = fetch_train_data('../../train_data_all_filled.json')\n",
    "df['fit'].replace('', np.nan)\n",
    "df.dropna(subset=['fit'], inplace=True)\n",
    "df.drop(labels=['age', 'height', 'weight', 'bust_size', 'price', 'review_summary', 'review', 'user_name', 'rating'], axis=1, inplace=True)\n",
    "labels= [0 if fit.startswith('S') else 1 if fit.startswith('T') else 2 for fit in df['fit'].to_list()]\n",
    "df['fit'] = labels\n",
    "cols = df.columns.to_list()\n",
    "cols.remove('fit')\n",
    "X, y = df[cols], df['fit']\n",
    "encoder = OneHotEncoder()\n",
    "X = encoder.fit_transform(X)\n",
    "y = y.to_numpy()"
   ]
  },
  {
   "cell_type": "code",
   "execution_count": 14,
   "metadata": {},
   "outputs": [
    {
     "name": "stdout",
     "output_type": "stream",
     "text": [
      "(array([0, 1, 2]), array([ 9457,  9843, 11542]))\n",
      "(array([0, 1, 2]), array([ 9457,  9843, 11542]))\n",
      "(array([0, 1, 2]), array([ 9457,  9843, 11542]))\n",
      "(array([0, 1, 2]), array([ 9457,  9842, 11542]))\n",
      "(array([0, 1, 2]), array([ 9457,  9842, 11542]))\n"
     ]
    },
    {
     "data": {
      "text/html": [
       "<div>\n",
       "<style scoped>\n",
       "    .dataframe tbody tr th:only-of-type {\n",
       "        vertical-align: middle;\n",
       "    }\n",
       "\n",
       "    .dataframe tbody tr th {\n",
       "        vertical-align: top;\n",
       "    }\n",
       "\n",
       "    .dataframe thead th {\n",
       "        text-align: right;\n",
       "    }\n",
       "</style>\n",
       "<table border=\"1\" class=\"dataframe\">\n",
       "  <thead>\n",
       "    <tr style=\"text-align: right;\">\n",
       "      <th></th>\n",
       "      <th>accuracy</th>\n",
       "      <th>precision</th>\n",
       "      <th>recall</th>\n",
       "      <th>f1</th>\n",
       "      <th>f1_weighted</th>\n",
       "      <th>#small</th>\n",
       "      <th>#true2size</th>\n",
       "      <th>#large</th>\n",
       "    </tr>\n",
       "  </thead>\n",
       "  <tbody>\n",
       "    <tr>\n",
       "      <th>result</th>\n",
       "      <td>0.520451</td>\n",
       "      <td>0.496117</td>\n",
       "      <td>0.601737</td>\n",
       "      <td>0.49014</td>\n",
       "      <td>0.543327</td>\n",
       "      <td>4690</td>\n",
       "      <td>6701</td>\n",
       "      <td>6163</td>\n",
       "    </tr>\n",
       "  </tbody>\n",
       "</table>\n",
       "</div>"
      ],
      "text/plain": [
       "        accuracy  precision    recall       f1  f1_weighted  #small  \\\n",
       "result  0.520451   0.496117  0.601737  0.49014     0.543327    4690   \n",
       "\n",
       "        #true2size  #large  \n",
       "result        6701    6163  "
      ]
     },
     "execution_count": 14,
     "metadata": {},
     "output_type": "execute_result"
    }
   ],
   "source": [
    "clf = LogisticRegression(max_iter=5000)\n",
    "X_train, X_test, y_train, y_test = train_test_split(X, y, test_size=0.2)\n",
    "random_split_aggr(clf, X_train, y_train, X_test, y_test)"
   ]
  },
  {
   "cell_type": "code",
   "execution_count": null,
   "metadata": {},
   "outputs": [],
   "source": []
  },
  {
   "cell_type": "code",
   "execution_count": null,
   "metadata": {},
   "outputs": [],
   "source": []
  },
  {
   "cell_type": "code",
   "execution_count": null,
   "metadata": {},
   "outputs": [],
   "source": []
  },
  {
   "cell_type": "code",
   "execution_count": null,
   "metadata": {},
   "outputs": [],
   "source": []
  }
 ],
 "metadata": {
  "kernelspec": {
   "display_name": "MLEnv",
   "language": "python",
   "name": "python3"
  },
  "language_info": {
   "codemirror_mode": {
    "name": "ipython",
    "version": 3
   },
   "file_extension": ".py",
   "mimetype": "text/x-python",
   "name": "python",
   "nbconvert_exporter": "python",
   "pygments_lexer": "ipython3",
   "version": "3.10.4"
  },
  "orig_nbformat": 4,
  "vscode": {
   "interpreter": {
    "hash": "fc7ca9e466352c316e6ff758adbaf8d58c766f76886a082a8a2249048a5ede16"
   }
  }
 },
 "nbformat": 4,
 "nbformat_minor": 2
}
